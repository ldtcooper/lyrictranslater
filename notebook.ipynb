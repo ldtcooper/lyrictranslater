{
 "cells": [
  {
   "cell_type": "code",
   "execution_count": 2,
   "metadata": {},
   "outputs": [
    {
     "name": "stderr",
     "output_type": "stream",
     "text": [
      "Downloading: \"https://dl.fbaipublicfiles.com/demucs/mdx_final/e51eebcc-c1b80bdd.th\" to /root/.cache/torch/hub/checkpoints/e51eebcc-c1b80bdd.th\n",
      "100%|███████| 160M/160M [00:04<00:00, 36.8MB/s]\n",
      "Downloading: \"https://dl.fbaipublicfiles.com/demucs/mdx_final/a1d90b5c-ae9d2452.th\" to /root/.cache/torch/hub/checkpoints/a1d90b5c-ae9d2452.th\n",
      "100%|███████| 160M/160M [00:04<00:00, 36.7MB/s]\n",
      "Downloading: \"https://dl.fbaipublicfiles.com/demucs/mdx_final/5d2d6c55-db83574e.th\" to /root/.cache/torch/hub/checkpoints/5d2d6c55-db83574e.th\n",
      "100%|███████| 160M/160M [00:04<00:00, 38.9MB/s]\n",
      "Downloading: \"https://dl.fbaipublicfiles.com/demucs/mdx_final/cfa93e08-61801ae1.th\" to /root/.cache/torch/hub/checkpoints/cfa93e08-61801ae1.th\n",
      "100%|███████| 160M/160M [00:05<00:00, 32.7MB/s]\n"
     ]
    },
    {
     "name": "stdout",
     "output_type": "stream",
     "text": [
      "Selected model is a bag of 4 models. You will see that many progress bars per track.\n",
      "Separated tracks will be stored in /workspace/separated/mdx_extra\n",
      "Separating track /data/01 Mon karma.m4a\n"
     ]
    },
    {
     "name": "stderr",
     "output_type": "stream",
     "text": [
      "100%|████████████████████████████████████████████████████████████████████████| 264.0/264.0 [00:06<00:00, 37.83seconds/s]\n",
      "100%|████████████████████████████████████████████████████████████████████████| 264.0/264.0 [00:05<00:00, 47.78seconds/s]\n",
      "100%|████████████████████████████████████████████████████████████████████████| 264.0/264.0 [00:04<00:00, 54.21seconds/s]\n",
      "100%|████████████████████████████████████████████████████████████████████████| 264.0/264.0 [00:04<00:00, 55.39seconds/s]\n"
     ]
    }
   ],
   "source": [
    "import demucs.separate\n",
    "\n",
    "demucs.separate.main([\"--mp3\", \"--two-stems\", \"vocals\", \"-n\", \"mdx_extra\", \"/data/01 Mon karma.m4a\"])"
   ]
  },
  {
   "cell_type": "code",
   "execution_count": 2,
   "metadata": {},
   "outputs": [],
   "source": [
    "import whisper"
   ]
  },
  {
   "cell_type": "code",
   "execution_count": 3,
   "metadata": {},
   "outputs": [
    {
     "data": {
      "text/plain": [
       "['tiny.en',\n",
       " 'tiny',\n",
       " 'base.en',\n",
       " 'base',\n",
       " 'small.en',\n",
       " 'small',\n",
       " 'medium.en',\n",
       " 'medium',\n",
       " 'large-v1',\n",
       " 'large-v2',\n",
       " 'large-v3',\n",
       " 'large',\n",
       " 'large-v3-turbo',\n",
       " 'turbo']"
      ]
     },
     "execution_count": 3,
     "metadata": {},
     "output_type": "execute_result"
    }
   ],
   "source": [
    "whisper.available_models()"
   ]
  },
  {
   "cell_type": "code",
   "execution_count": 5,
   "metadata": {},
   "outputs": [
    {
     "data": {
      "text/plain": [
       "\" Je ne me suis pas en train de me faire. Si je me fie un mes et pas on ne se surportrait pas le bois, je ne serai jamais chef de la goul. Je n'ai pas les toffes d'un roi, je ne refeur et pas le bon, je ne le pointais pas du goi. Est-ce que tu veux que je te réponde ce n'est pas mon quartement, c'est temps, pis c'est pour moi. Je reviendrai en champantant pis c'est pour moi. Par où t'es long que c'est de ponger, mais c'est temps pis c'est pour moi. De maje reviendrai en champantant pis c'est pour moi. Par où t'es long de même pas de nous le jour de croix. Je ne me suis pas en train de me faire. Plus t'os j'ai réduit mes attentes, je ne veux plus savoir ce qu'il y a. La mélodie que je me chante, tant je le le veux mais qu'à mes gars, si je ne refais pas le bon, sur moi quelqu'un le fera pour moi. Qu'est-ce que tu veux que je te réponde ce n'est pas mon quartement, c'est temps pis c'est pour moi. Comme un jeu reviendrai en champantant pis c'est pour moi. Par où t'es long de cette tanger, mais c'est temps pis c'est pour moi. Par où t'es long de même pas de nous le jour de croix. Je ne veux pas savoir. Au-dessus, paye un refaire, monde, je m'occupe de l'heure, sans fin de toujours courir contre la mort. Finni par et souffler le temps, les superirons sur la bande, mais peu d'entre fond l'air bas. Qu'est-ce que tu veux que je te réponde ce n'est pas mon quartement, c'est temps pis c'est pour moi. Par où t'es long de même pas de nous le jour de croix. Je ne veux pas savoir. Par où t'es long de croix. Par où t'es long de croix. Je ne veux pas savoir. Par où t'es long de croix. Je ne veux pas savoir. Par où t'es long de croix. Par où t'es long de croix. Je ne veux pas savoir. Par où t'es long de croix. Par où t'es long de croix. Par où t'es long de croix. Par où t'es long de croix. Par où t'es long de croix.\""
      ]
     },
     "execution_count": 5,
     "metadata": {},
     "output_type": "execute_result"
    }
   ],
   "source": [
    "model = whisper.load_model('tiny')\n",
    "transcription = model.transcribe('separated/mdx_extra/01 Mon karma/vocals.mp3', language=\"en\")\n",
    "transcription['text']"
   ]
  }
 ],
 "metadata": {
  "kernelspec": {
   "display_name": "Python 3 (ipykernel)",
   "language": "python",
   "name": "python3"
  },
  "language_info": {
   "codemirror_mode": {
    "name": "ipython",
    "version": 3
   },
   "file_extension": ".py",
   "mimetype": "text/x-python",
   "name": "python",
   "nbconvert_exporter": "python",
   "pygments_lexer": "ipython3",
   "version": "3.10.11"
  }
 },
 "nbformat": 4,
 "nbformat_minor": 2
}
