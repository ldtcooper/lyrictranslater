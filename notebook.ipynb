{
 "cells": [
  {
   "cell_type": "code",
   "execution_count": 8,
   "metadata": {},
   "outputs": [],
   "source": [
    "import demucs.separate\n",
    "import whisper\n",
    "import torch\n",
    "from transformers import pipeline\n",
    "import re\n",
    "from typing import Tuple"
   ]
  },
  {
   "cell_type": "code",
   "execution_count": 2,
   "metadata": {},
   "outputs": [
    {
     "name": "stdout",
     "output_type": "stream",
     "text": [
      "Selected model is a bag of 1 models. You will see that many progress bars per track.\n",
      "Separated tracks will be stored in /workspace/separated/htdemucs\n",
      "Separating track /data/01 Mon karma.m4a\n"
     ]
    },
    {
     "name": "stderr",
     "output_type": "stream",
     "text": [
      "100%|████████████████████████████████████████████████████████████████████████| 234.0/234.0 [00:11<00:00, 20.13seconds/s]\n"
     ]
    }
   ],
   "source": [
    "demucs.separate.main([\"--mp3\", \"--two-stems\", \"vocals\", \"-n\", \"htdemucs\", \"/data/01 Mon karma.m4a\"])"
   ]
  },
  {
   "cell_type": "code",
   "execution_count": 3,
   "metadata": {},
   "outputs": [
    {
     "name": "stderr",
     "output_type": "stream",
     "text": [
      "/opt/conda/lib/python3.11/site-packages/whisper/__init__.py:150: FutureWarning: You are using `torch.load` with `weights_only=False` (the current default value), which uses the default pickle module implicitly. It is possible to construct malicious pickle data which will execute arbitrary code during unpickling (See https://github.com/pytorch/pytorch/blob/main/SECURITY.md#untrusted-models for more details). In a future release, the default value for `weights_only` will be flipped to `True`. This limits the functions that could be executed during unpickling. Arbitrary objects will no longer be allowed to be loaded via this mode unless they are explicitly allowlisted by the user via `torch.serialization.add_safe_globals`. We recommend you start setting `weights_only=True` for any use case where you don't have full control of the loaded file. Please open an issue on GitHub for any issues related to this experimental feature.\n",
      "  checkpoint = torch.load(fp, map_location=device)\n"
     ]
    },
    {
     "data": {
      "text/plain": [
       "\" Si je me fie à mes épaules, je ne supporterai pas le bois. Je ne serai jamais chef de la goule. Je n'ai pas les puffs de bois. Je ne referais pas le monde. Je ne le pointerai pas du doigt. Est-ce que tu veux que je te réponds ? Ce n'est pas mon karma. C'est tant pis c'est pour moi. De même je reviendrai en chantant en temps. Pis c'est pour moi. Parotel long, cette ponge a mes septemps. Pis c'est pour moi. De même je reviendrai en chantant en temps. Pis c'est pour moi. Parotel long, mais pas de l'autre jour, je crois. Plus d'où j'ai réduit mes attendues, je ne veux plus savoir ce qu'il y a. La mélodie que je me chante en jeolive mes camélias. Si je ne refais pas le monde, sûrement quelqu'un le fera pour moi. Qu'est-ce que tu veux que je te réponds ? Ce n'est pas mon karma. C'est tant pis c'est pour moi. De même je reviendrai en chantant en temps. Pis c'est pour moi. Parotel long, cette ponge a mes septemps. Pis c'est pour moi. De même je reviendrai en chantant en temps. Pis c'est pour moi. Parotel long, mais pas toujours, je crois. Tu fais un refaire au monde, je m'occupe de leurs enfants toujours courir contre la mort. Fini par et souffler le temps. Les super éronciurs abondent, mais peu d'entrefonds l'air pas. Qu'est-ce que tu veux que je te réponds ? Ce n'est pas mon karma. C'est tant pis c'est pour moi. De même je reviendrai en chantant en temps. Pis c'est pour moi. Parotel long, cette ponge a mes septemps. Pis c'est pour moi. De même je reviendrai en chantant en temps. De même je reviendrai en chantant tant pis c'est pour moi Arroutait l'ongue mais pas toujours je crois Et même si je parlais Et même si je parlais Je maid et même aussi je me menger ... vois ... ...\""
      ]
     },
     "execution_count": 3,
     "metadata": {},
     "output_type": "execute_result"
    }
   ],
   "source": [
    "model = whisper.load_model('base')\n",
    "transcription = model.transcribe('separated/htdemucs/01 Mon karma/vocals.mp3', language=\"fr\")\n",
    "transcription['text']"
   ]
  },
  {
   "cell_type": "code",
   "execution_count": 4,
   "metadata": {},
   "outputs": [
    {
     "name": "stderr",
     "output_type": "stream",
     "text": [
      "/opt/conda/lib/python3.11/site-packages/transformers/models/marian/tokenization_marian.py:175: UserWarning: Recommended: pip install sacremoses.\n",
      "  warnings.warn(\"Recommended: pip install sacremoses.\")\n",
      "Device set to use cuda:0\n"
     ]
    }
   ],
   "source": [
    "pipe = pipeline(\"translation\", model=\"Helsinki-NLP/opus-mt-fr-en\")"
   ]
  },
  {
   "cell_type": "code",
   "execution_count": 13,
   "metadata": {},
   "outputs": [],
   "source": [
    "def translate_line(line: str, pipe: callable) -> Tuple[str, str]:\n",
    "    line = line.strip()\n",
    "    translation = pipe(line)\n",
    "    return (line, translation[0]['translation_text'])"
   ]
  },
  {
   "cell_type": "code",
   "execution_count": 14,
   "metadata": {},
   "outputs": [
    {
     "data": {
      "text/plain": [
       "[('Si je me fie à mes épaules, je ne supporterai pas le bois',\n",
       "  \"If I trust my shoulders, I won't stand the wood.\"),\n",
       " ('Je ne serai jamais chef de la goule',\n",
       "  \"I'll never be the leader of the ghouls.\"),\n",
       " (\"Je n'ai pas les puffs de bois\", \"I don't have wood puffs.\"),\n",
       " ('Je ne referais pas le monde', \"I wouldn't do it again.\"),\n",
       " ('Je ne le pointerai pas du doigt', \"I won't point his finger at him.\"),\n",
       " ('Est-ce que tu veux que je te réponds', 'Do you want me to answer you?'),\n",
       " (\"Ce n'est pas mon karma\", \"It's not my karma.\"),\n",
       " (\"C'est tant pis c'est pour moi\", \"It's so bad for me.\"),\n",
       " ('De même je reviendrai en chantant en temps',\n",
       "  \"I'll come back singing on time.\"),\n",
       " (\"Pis c'est pour moi\", 'Worse for me.'),\n",
       " ('Parotel long, cette ponge a mes septemps',\n",
       "  'Long parotel, this pong has my sevenfold'),\n",
       " (\"Pis c'est pour moi\", 'Worse for me.'),\n",
       " ('De même je reviendrai en chantant en temps',\n",
       "  \"I'll come back singing on time.\"),\n",
       " (\"Pis c'est pour moi\", 'Worse for me.'),\n",
       " (\"Parotel long, mais pas de l'autre jour, je crois\",\n",
       "  'Long parotel, but not the other day, I think.'),\n",
       " (\"Plus d'où j'ai réduit mes attendues, je ne veux plus savoir ce qu'il y a\",\n",
       "  \"No more where I've reduced my expectations, I don't want to know what's going on.\"),\n",
       " ('La mélodie que je me chante en jeolive mes camélias',\n",
       "  'The melody I sing to myself in Iove my camellias'),\n",
       " (\"Si je ne refais pas le monde, sûrement quelqu'un le fera pour moi\",\n",
       "  \"If I don't do it again, I'm sure someone will do it for me.\"),\n",
       " (\"Qu'est-ce que tu veux que je te réponds\", 'What do you want me to say?'),\n",
       " (\"Ce n'est pas mon karma\", \"It's not my karma.\"),\n",
       " (\"C'est tant pis c'est pour moi\", \"It's so bad for me.\"),\n",
       " ('De même je reviendrai en chantant en temps',\n",
       "  \"I'll come back singing on time.\"),\n",
       " (\"Pis c'est pour moi\", 'Worse for me.'),\n",
       " ('Parotel long, cette ponge a mes septemps',\n",
       "  'Long parotel, this pong has my sevenfold'),\n",
       " (\"Pis c'est pour moi\", 'Worse for me.'),\n",
       " ('De même je reviendrai en chantant en temps',\n",
       "  \"I'll come back singing on time.\"),\n",
       " (\"Pis c'est pour moi\", 'Worse for me.'),\n",
       " ('Parotel long, mais pas toujours, je crois',\n",
       "  'Long parotel, but not always, I think.'),\n",
       " (\"Tu fais un refaire au monde, je m'occupe de leurs enfants toujours courir contre la mort\",\n",
       "  'You make the world a new one, I take care of their children always run against death'),\n",
       " ('Fini par et souffler le temps', 'Finished by and blow the time'),\n",
       " (\"Les super éronciurs abondent, mais peu d'entrefonds l'air pas\",\n",
       "  'Super-erocutors abound, but few intersoils air not'),\n",
       " (\"Qu'est-ce que tu veux que je te réponds\", 'What do you want me to say?'),\n",
       " (\"Ce n'est pas mon karma\", \"It's not my karma.\"),\n",
       " (\"C'est tant pis c'est pour moi\", \"It's so bad for me.\"),\n",
       " ('De même je reviendrai en chantant en temps',\n",
       "  \"I'll come back singing on time.\"),\n",
       " (\"Pis c'est pour moi\", 'Worse for me.'),\n",
       " ('Parotel long, cette ponge a mes septemps',\n",
       "  'Long parotel, this pong has my sevenfold'),\n",
       " (\"Pis c'est pour moi\", 'Worse for me.'),\n",
       " ('De même je reviendrai en chantant en temps',\n",
       "  \"I'll come back singing on time.\"),\n",
       " (\"De même je reviendrai en chantant tant pis c'est pour moi Arroutait l'ongue mais pas toujours je crois Et même si je parlais Et même si je parlais Je maid et même aussi je me menger\",\n",
       "  \"Likewise I will come back singing so much, it's for me to stop the ointment but not always I believe And even if I was talking And even if I was talking I might and even I was thinking about myself\"),\n",
       " ('vois', 'See.')]"
      ]
     },
     "execution_count": 14,
     "metadata": {},
     "output_type": "execute_result"
    }
   ],
   "source": [
    "lines = [translate_line(el, pipe) for el in re.split(r'[.?!]', transcription['text']) if len(el.strip()) > 0]\n",
    "lines"
   ]
  }
 ],
 "metadata": {
  "kernelspec": {
   "display_name": "Python 3 (ipykernel)",
   "language": "python",
   "name": "python3"
  },
  "language_info": {
   "codemirror_mode": {
    "name": "ipython",
    "version": 3
   },
   "file_extension": ".py",
   "mimetype": "text/x-python",
   "name": "python",
   "nbconvert_exporter": "python",
   "pygments_lexer": "ipython3",
   "version": "3.11.10"
  }
 },
 "nbformat": 4,
 "nbformat_minor": 2
}
